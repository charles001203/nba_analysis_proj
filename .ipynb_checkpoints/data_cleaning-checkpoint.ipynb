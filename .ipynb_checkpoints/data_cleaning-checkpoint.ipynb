{
 "cells": [
  {
   "cell_type": "markdown",
   "metadata": {},
   "source": [
    "# NBA Analysis Project Part 1: Data Cleaning"
   ]
  },
  {
   "cell_type": "markdown",
   "metadata": {},
   "source": [
    "Goal: **This project is aiming to predict which nba team will most likely win the 2020-2021 nba championship**\n",
    "\n",
    "Project Planning: When starting a project, I like to outline the steps that I plan to take. This will allow me to break down the project into pieces and help me to minimize the time and effort when I'm debugging in an organized manner. The process is shown below:"
   ]
  },
  {
   "cell_type": "markdown",
   "metadata": {},
   "source": [
    "1. Understand the nature of the data\n",
    "2. Clean the data to obtain the most relevant information\n",
    "3. Create as many plots as possible to visualize the data\n",
    "4. Process missing data\n",
    "5. Explore data\n",
    "and more (to be continued...)"
   ]
  },
  {
   "cell_type": "code",
   "execution_count": 4,
   "metadata": {},
   "outputs": [
    {
     "name": "stdout",
     "output_type": "stream",
     "text": [
      "Setup Complete\n"
     ]
    }
   ],
   "source": [
    "#import the dependencies and packages\n",
    "import math\n",
    "import numpy as np\n",
    "import pandas as pd\n",
    "import seaborn as sns\n",
    "import matplotlib.pyplot as plt\n",
    "print(\"Setup Complete\")"
   ]
  },
  {
   "cell_type": "code",
   "execution_count": 5,
   "metadata": {},
   "outputs": [
    {
     "name": "stdout",
     "output_type": "stream",
     "text": [
      "games_details csv loaded\n"
     ]
    }
   ],
   "source": [
    "#Load the data using csv\n",
    "games_details = pd.read_csv(\"games_details.csv\")\n",
    "\n",
    "#games = pd.read_csv(\"games.csv\")\n",
    "#players = pd.read_csv(\"players.csv\")\n",
    "#ranking = pd.read_csv(\"ranking.csv\")\n",
    "#teams = pd.read_csv(\"teams.csv\")\n",
    "print(\"games_details csv loaded\")"
   ]
  },
  {
   "cell_type": "markdown",
   "metadata": {},
   "source": [
    "### Data Table 1: NBA Game Details"
   ]
  },
  {
   "cell_type": "markdown",
   "metadata": {},
   "source": [
    "To start off, I want to get rid of some of the columns as they are just redundant information and aren't helpful for our data analysis. I also want to clean the data by removing the null data to ensure every data block has a meaning."
   ]
  },
  {
   "cell_type": "code",
   "execution_count": 6,
   "metadata": {},
   "outputs": [
    {
     "name": "stdout",
     "output_type": "stream",
     "text": [
      "Title: Games_Details 615626 rows and 28 columns\n",
      "(615626, 28)\n",
      "['game_id', 'team_id', 'team_abbreviation', 'team_city', 'player_id', 'player_name', 'start_position', 'comment', 'min', 'fgm', 'fga', 'fg_pct', 'fg3m', 'fg3a', 'fg3_pct', 'ftm', 'fta', 'ft_pct', 'oreb', 'dreb', 'reb', 'ast', 'stl', 'blk', 'to', 'pf', 'pts', 'plus_minus']\n"
     ]
    },
    {
     "data": {
      "text/html": [
       "<div>\n",
       "<style scoped>\n",
       "    .dataframe tbody tr th:only-of-type {\n",
       "        vertical-align: middle;\n",
       "    }\n",
       "\n",
       "    .dataframe tbody tr th {\n",
       "        vertical-align: top;\n",
       "    }\n",
       "\n",
       "    .dataframe thead th {\n",
       "        text-align: right;\n",
       "    }\n",
       "</style>\n",
       "<table border=\"1\" class=\"dataframe\">\n",
       "  <thead>\n",
       "    <tr style=\"text-align: right;\">\n",
       "      <th></th>\n",
       "      <th>GAME_ID</th>\n",
       "      <th>TEAM_ABBREVIATION</th>\n",
       "      <th>TEAM_CITY</th>\n",
       "      <th>PLAYER_NAME</th>\n",
       "      <th>START_POSITION</th>\n",
       "      <th>MIN</th>\n",
       "      <th>FGM</th>\n",
       "      <th>FGA</th>\n",
       "      <th>FG_PCT</th>\n",
       "      <th>FG3M</th>\n",
       "      <th>...</th>\n",
       "      <th>OREB</th>\n",
       "      <th>DREB</th>\n",
       "      <th>REB</th>\n",
       "      <th>AST</th>\n",
       "      <th>STL</th>\n",
       "      <th>BLK</th>\n",
       "      <th>TO</th>\n",
       "      <th>PF</th>\n",
       "      <th>PTS</th>\n",
       "      <th>PLUS_MINUS</th>\n",
       "    </tr>\n",
       "  </thead>\n",
       "  <tbody>\n",
       "    <tr>\n",
       "      <th>543022</th>\n",
       "      <td>11400001</td>\n",
       "      <td>MIA</td>\n",
       "      <td>Miami</td>\n",
       "      <td>Luol Deng</td>\n",
       "      <td>F</td>\n",
       "      <td>24:50</td>\n",
       "      <td>2.0</td>\n",
       "      <td>7.0</td>\n",
       "      <td>0.286</td>\n",
       "      <td>0.0</td>\n",
       "      <td>...</td>\n",
       "      <td>2.0</td>\n",
       "      <td>1.0</td>\n",
       "      <td>3.0</td>\n",
       "      <td>1.0</td>\n",
       "      <td>2.0</td>\n",
       "      <td>0.0</td>\n",
       "      <td>0.0</td>\n",
       "      <td>0.0</td>\n",
       "      <td>4.0</td>\n",
       "      <td>-16.0</td>\n",
       "    </tr>\n",
       "    <tr>\n",
       "      <th>543023</th>\n",
       "      <td>11400001</td>\n",
       "      <td>MIA</td>\n",
       "      <td>Miami</td>\n",
       "      <td>Udonis Haslem</td>\n",
       "      <td>F</td>\n",
       "      <td>10:32</td>\n",
       "      <td>1.0</td>\n",
       "      <td>2.0</td>\n",
       "      <td>0.500</td>\n",
       "      <td>0.0</td>\n",
       "      <td>...</td>\n",
       "      <td>0.0</td>\n",
       "      <td>2.0</td>\n",
       "      <td>2.0</td>\n",
       "      <td>1.0</td>\n",
       "      <td>1.0</td>\n",
       "      <td>0.0</td>\n",
       "      <td>0.0</td>\n",
       "      <td>2.0</td>\n",
       "      <td>2.0</td>\n",
       "      <td>-8.0</td>\n",
       "    </tr>\n",
       "    <tr>\n",
       "      <th>543024</th>\n",
       "      <td>11400001</td>\n",
       "      <td>MIA</td>\n",
       "      <td>Miami</td>\n",
       "      <td>Chris Bosh</td>\n",
       "      <td>C</td>\n",
       "      <td>25:20</td>\n",
       "      <td>3.0</td>\n",
       "      <td>13.0</td>\n",
       "      <td>0.231</td>\n",
       "      <td>1.0</td>\n",
       "      <td>...</td>\n",
       "      <td>1.0</td>\n",
       "      <td>5.0</td>\n",
       "      <td>6.0</td>\n",
       "      <td>2.0</td>\n",
       "      <td>1.0</td>\n",
       "      <td>0.0</td>\n",
       "      <td>4.0</td>\n",
       "      <td>2.0</td>\n",
       "      <td>9.0</td>\n",
       "      <td>-10.0</td>\n",
       "    </tr>\n",
       "    <tr>\n",
       "      <th>543025</th>\n",
       "      <td>11400001</td>\n",
       "      <td>MIA</td>\n",
       "      <td>Miami</td>\n",
       "      <td>Dwyane Wade</td>\n",
       "      <td>G</td>\n",
       "      <td>20:31</td>\n",
       "      <td>2.0</td>\n",
       "      <td>7.0</td>\n",
       "      <td>0.286</td>\n",
       "      <td>0.0</td>\n",
       "      <td>...</td>\n",
       "      <td>0.0</td>\n",
       "      <td>2.0</td>\n",
       "      <td>2.0</td>\n",
       "      <td>3.0</td>\n",
       "      <td>0.0</td>\n",
       "      <td>0.0</td>\n",
       "      <td>1.0</td>\n",
       "      <td>1.0</td>\n",
       "      <td>6.0</td>\n",
       "      <td>-11.0</td>\n",
       "    </tr>\n",
       "    <tr>\n",
       "      <th>543026</th>\n",
       "      <td>11400001</td>\n",
       "      <td>MIA</td>\n",
       "      <td>Miami</td>\n",
       "      <td>Mario Chalmers</td>\n",
       "      <td>G</td>\n",
       "      <td>21:16</td>\n",
       "      <td>0.0</td>\n",
       "      <td>2.0</td>\n",
       "      <td>0.000</td>\n",
       "      <td>0.0</td>\n",
       "      <td>...</td>\n",
       "      <td>0.0</td>\n",
       "      <td>3.0</td>\n",
       "      <td>3.0</td>\n",
       "      <td>2.0</td>\n",
       "      <td>1.0</td>\n",
       "      <td>0.0</td>\n",
       "      <td>2.0</td>\n",
       "      <td>1.0</td>\n",
       "      <td>2.0</td>\n",
       "      <td>-6.0</td>\n",
       "    </tr>\n",
       "    <tr>\n",
       "      <th>...</th>\n",
       "      <td>...</td>\n",
       "      <td>...</td>\n",
       "      <td>...</td>\n",
       "      <td>...</td>\n",
       "      <td>...</td>\n",
       "      <td>...</td>\n",
       "      <td>...</td>\n",
       "      <td>...</td>\n",
       "      <td>...</td>\n",
       "      <td>...</td>\n",
       "      <td>...</td>\n",
       "      <td>...</td>\n",
       "      <td>...</td>\n",
       "      <td>...</td>\n",
       "      <td>...</td>\n",
       "      <td>...</td>\n",
       "      <td>...</td>\n",
       "      <td>...</td>\n",
       "      <td>...</td>\n",
       "      <td>...</td>\n",
       "      <td>...</td>\n",
       "    </tr>\n",
       "    <tr>\n",
       "      <th>476</th>\n",
       "      <td>52000211</td>\n",
       "      <td>MEM</td>\n",
       "      <td>Memphis</td>\n",
       "      <td>Kyle Anderson</td>\n",
       "      <td>F</td>\n",
       "      <td>39:01</td>\n",
       "      <td>2.0</td>\n",
       "      <td>7.0</td>\n",
       "      <td>0.286</td>\n",
       "      <td>0.0</td>\n",
       "      <td>...</td>\n",
       "      <td>2.0</td>\n",
       "      <td>8.0</td>\n",
       "      <td>10.0</td>\n",
       "      <td>6.0</td>\n",
       "      <td>1.0</td>\n",
       "      <td>2.0</td>\n",
       "      <td>0.0</td>\n",
       "      <td>1.0</td>\n",
       "      <td>9.0</td>\n",
       "      <td>11.0</td>\n",
       "    </tr>\n",
       "    <tr>\n",
       "      <th>477</th>\n",
       "      <td>52000211</td>\n",
       "      <td>MEM</td>\n",
       "      <td>Memphis</td>\n",
       "      <td>Jaren Jackson Jr.</td>\n",
       "      <td>F</td>\n",
       "      <td>14:56</td>\n",
       "      <td>1.0</td>\n",
       "      <td>6.0</td>\n",
       "      <td>0.167</td>\n",
       "      <td>1.0</td>\n",
       "      <td>...</td>\n",
       "      <td>2.0</td>\n",
       "      <td>0.0</td>\n",
       "      <td>2.0</td>\n",
       "      <td>0.0</td>\n",
       "      <td>0.0</td>\n",
       "      <td>2.0</td>\n",
       "      <td>1.0</td>\n",
       "      <td>4.0</td>\n",
       "      <td>10.0</td>\n",
       "      <td>1.0</td>\n",
       "    </tr>\n",
       "    <tr>\n",
       "      <th>478</th>\n",
       "      <td>52000211</td>\n",
       "      <td>MEM</td>\n",
       "      <td>Memphis</td>\n",
       "      <td>Jonas Valanciunas</td>\n",
       "      <td>C</td>\n",
       "      <td>25:33</td>\n",
       "      <td>3.0</td>\n",
       "      <td>6.0</td>\n",
       "      <td>0.500</td>\n",
       "      <td>1.0</td>\n",
       "      <td>...</td>\n",
       "      <td>6.0</td>\n",
       "      <td>6.0</td>\n",
       "      <td>12.0</td>\n",
       "      <td>3.0</td>\n",
       "      <td>0.0</td>\n",
       "      <td>0.0</td>\n",
       "      <td>3.0</td>\n",
       "      <td>6.0</td>\n",
       "      <td>9.0</td>\n",
       "      <td>7.0</td>\n",
       "    </tr>\n",
       "    <tr>\n",
       "      <th>479</th>\n",
       "      <td>52000211</td>\n",
       "      <td>MEM</td>\n",
       "      <td>Memphis</td>\n",
       "      <td>Dillon Brooks</td>\n",
       "      <td>G</td>\n",
       "      <td>45:04</td>\n",
       "      <td>7.0</td>\n",
       "      <td>22.0</td>\n",
       "      <td>0.318</td>\n",
       "      <td>0.0</td>\n",
       "      <td>...</td>\n",
       "      <td>1.0</td>\n",
       "      <td>1.0</td>\n",
       "      <td>2.0</td>\n",
       "      <td>3.0</td>\n",
       "      <td>2.0</td>\n",
       "      <td>0.0</td>\n",
       "      <td>1.0</td>\n",
       "      <td>5.0</td>\n",
       "      <td>14.0</td>\n",
       "      <td>-1.0</td>\n",
       "    </tr>\n",
       "    <tr>\n",
       "      <th>480</th>\n",
       "      <td>52000211</td>\n",
       "      <td>MEM</td>\n",
       "      <td>Memphis</td>\n",
       "      <td>Ja Morant</td>\n",
       "      <td>G</td>\n",
       "      <td>45:45</td>\n",
       "      <td>14.0</td>\n",
       "      <td>29.0</td>\n",
       "      <td>0.483</td>\n",
       "      <td>5.0</td>\n",
       "      <td>...</td>\n",
       "      <td>2.0</td>\n",
       "      <td>4.0</td>\n",
       "      <td>6.0</td>\n",
       "      <td>6.0</td>\n",
       "      <td>4.0</td>\n",
       "      <td>0.0</td>\n",
       "      <td>5.0</td>\n",
       "      <td>2.0</td>\n",
       "      <td>35.0</td>\n",
       "      <td>-1.0</td>\n",
       "    </tr>\n",
       "  </tbody>\n",
       "</table>\n",
       "<p>235795 rows × 25 columns</p>\n",
       "</div>"
      ],
      "text/plain": [
       "         GAME_ID TEAM_ABBREVIATION TEAM_CITY        PLAYER_NAME  \\\n",
       "543022  11400001               MIA     Miami          Luol Deng   \n",
       "543023  11400001               MIA     Miami      Udonis Haslem   \n",
       "543024  11400001               MIA     Miami         Chris Bosh   \n",
       "543025  11400001               MIA     Miami        Dwyane Wade   \n",
       "543026  11400001               MIA     Miami     Mario Chalmers   \n",
       "...          ...               ...       ...                ...   \n",
       "476     52000211               MEM   Memphis      Kyle Anderson   \n",
       "477     52000211               MEM   Memphis  Jaren Jackson Jr.   \n",
       "478     52000211               MEM   Memphis  Jonas Valanciunas   \n",
       "479     52000211               MEM   Memphis      Dillon Brooks   \n",
       "480     52000211               MEM   Memphis          Ja Morant   \n",
       "\n",
       "       START_POSITION    MIN   FGM   FGA  FG_PCT  FG3M  ...  OREB  DREB   REB  \\\n",
       "543022              F  24:50   2.0   7.0   0.286   0.0  ...   2.0   1.0   3.0   \n",
       "543023              F  10:32   1.0   2.0   0.500   0.0  ...   0.0   2.0   2.0   \n",
       "543024              C  25:20   3.0  13.0   0.231   1.0  ...   1.0   5.0   6.0   \n",
       "543025              G  20:31   2.0   7.0   0.286   0.0  ...   0.0   2.0   2.0   \n",
       "543026              G  21:16   0.0   2.0   0.000   0.0  ...   0.0   3.0   3.0   \n",
       "...               ...    ...   ...   ...     ...   ...  ...   ...   ...   ...   \n",
       "476                 F  39:01   2.0   7.0   0.286   0.0  ...   2.0   8.0  10.0   \n",
       "477                 F  14:56   1.0   6.0   0.167   1.0  ...   2.0   0.0   2.0   \n",
       "478                 C  25:33   3.0   6.0   0.500   1.0  ...   6.0   6.0  12.0   \n",
       "479                 G  45:04   7.0  22.0   0.318   0.0  ...   1.0   1.0   2.0   \n",
       "480                 G  45:45  14.0  29.0   0.483   5.0  ...   2.0   4.0   6.0   \n",
       "\n",
       "        AST  STL  BLK   TO   PF   PTS  PLUS_MINUS  \n",
       "543022  1.0  2.0  0.0  0.0  0.0   4.0       -16.0  \n",
       "543023  1.0  1.0  0.0  0.0  2.0   2.0        -8.0  \n",
       "543024  2.0  1.0  0.0  4.0  2.0   9.0       -10.0  \n",
       "543025  3.0  0.0  0.0  1.0  1.0   6.0       -11.0  \n",
       "543026  2.0  1.0  0.0  2.0  1.0   2.0        -6.0  \n",
       "...     ...  ...  ...  ...  ...   ...         ...  \n",
       "476     6.0  1.0  2.0  0.0  1.0   9.0        11.0  \n",
       "477     0.0  0.0  2.0  1.0  4.0  10.0         1.0  \n",
       "478     3.0  0.0  0.0  3.0  6.0   9.0         7.0  \n",
       "479     3.0  2.0  0.0  1.0  5.0  14.0        -1.0  \n",
       "480     6.0  4.0  0.0  5.0  2.0  35.0        -1.0  \n",
       "\n",
       "[235795 rows x 25 columns]"
      ]
     },
     "execution_count": 6,
     "metadata": {},
     "output_type": "execute_result"
    }
   ],
   "source": [
    "print(\"Title: Games_Details 615626 rows and 28 columns\")\n",
    "print(games_details.shape)\n",
    "\n",
    "#get rid of start_position null value\n",
    "games_details = games_details[games_details['START_POSITION'].notna()]\n",
    "col_list = []\n",
    "for col in games_details.columns:\n",
    "    col_list.append(col.lower())\n",
    "print(col_list)\n",
    "\n",
    "games_details.pop(\"PLAYER_ID\")\n",
    "#games_details.pop(\"GAME_ID\")\n",
    "games_details.pop(\"TEAM_ID\")\n",
    "games_details.pop(\"COMMENT\")\n",
    "\n",
    "games_details.sort_values(by=['GAME_ID','TEAM_ABBREVIATION'],inplace=True)\n",
    "games_details\n",
    "#find the average of each numeric column\n",
    "#games_details.mean()"
   ]
  },
  {
   "cell_type": "markdown",
   "metadata": {},
   "source": [
    "As we can see, the column names can be very confusing, so just want to clarify full names of the abbreviations\n",
    "* FGM: Field Goal Made\n",
    "* FGA: Field Goal Attempt\n",
    "* FG_PCT: Field Goal Percentage %\n",
    "* FG3M: Field Goal 3 pointers Made\n",
    "* FG3A: Field Goal 3 pointer Attempt\n",
    "* FG3_PCT: Field Goal 3 pointers Percentage %\n",
    "* FTM: Free Throw Made\n",
    "* FTA: Free Throw Attempt\n",
    "* FT_PCT: Free Throw Percentage %\n",
    "* OREB: Offensive rebound\n",
    "* DREB: Defensive rebound\n",
    "* REB: rebound\n",
    "* AST: assists\n",
    "* STL: Steal\n",
    "* BLK: Block\n",
    "* TO: Turnover\n",
    "* PF: Personal Fouls\n",
    "* PTS: Points\n",
    "* PLUS_MINUS: plus minus"
   ]
  },
  {
   "cell_type": "markdown",
   "metadata": {},
   "source": [
    "I know. These are a lot of information that is shown and it's quite intimdating for a nba sports newbie to understand everything. So I highly recommend those who don't understand these terminologies by checking the wikipedia page: https://en.wikipedia.org/wiki/Rules_of_basketball. Enough said, let's keep navigating through our data."
   ]
  },
  {
   "cell_type": "markdown",
   "metadata": {},
   "source": [
    "To understand how each team is doing throughout the past ten or more years, I want to extract their game statistics from each season and compare their performance in each season. First, let's take a look the interaction between rebounds, assists, and steals."
   ]
  },
  {
   "cell_type": "code",
   "execution_count": 11,
   "metadata": {},
   "outputs": [
    {
     "data": {
      "text/plain": [
       "<seaborn.axisgrid.PairGrid at 0x7f898ec40670>"
      ]
     },
     "execution_count": 11,
     "metadata": {},
     "output_type": "execute_result"
    },
    {
     "data": {
      "image/png": "[encoded data removed]",
      "text/plain": [
       "<Figure size 540x540 with 12 Axes>"
      ]
     },
     "metadata": {
      "needs_background": "light"
     },
     "output_type": "display_data"
    }
   ],
   "source": [
    "sns.pairplot(games_details[['REB','AST','STL']])"
   ]
  },
  {
   "cell_type": "code",
   "execution_count": 12,
   "metadata": {},
   "outputs": [
    {
     "data": {
      "text/plain": [
       "<matplotlib.axes._subplots.AxesSubplot at 0x7f898cd66730>"
      ]
     },
     "execution_count": 12,
     "metadata": {},
     "output_type": "execute_result"
    },
    {
     "data": {
      "image/png": "[encoded data removed]",
      "text/plain": [
       "<Figure size 432x288 with 2 Axes>"
      ]
     },
     "metadata": {
      "needs_background": "light"
     },
     "output_type": "display_data"
    }
   ],
   "source": [
    "#Make a heatmap to see correlations\n",
    "correlations1 = games_details[['FG3M','FG3A','FG_PCT']].corr()\n",
    "sns.heatmap(correlations1, annot=True)"
   ]
  },
  {
   "cell_type": "code",
   "execution_count": 13,
   "metadata": {},
   "outputs": [
    {
     "data": {
      "text/plain": [
       "<matplotlib.axes._subplots.AxesSubplot at 0x7f898d8a01c0>"
      ]
     },
     "execution_count": 13,
     "metadata": {},
     "output_type": "execute_result"
    },
    {
     "data": {
      "image/png": "[encoded data removed]",
      "text/plain": [
       "<Figure size 432x288 with 2 Axes>"
      ]
     },
     "metadata": {
      "needs_background": "light"
     },
     "output_type": "display_data"
    }
   ],
   "source": [
    "#Make a heatmap to see correlations\n",
    "correlations2 = games_details[['FGM','FGA','FG3_PCT']].corr()\n",
    "sns.heatmap(correlations2, annot=True)"
   ]
  },
  {
   "cell_type": "code",
   "execution_count": 14,
   "metadata": {},
   "outputs": [
    {
     "data": {
      "text/plain": [
       "<matplotlib.axes._subplots.AxesSubplot at 0x7f89929b0a60>"
      ]
     },
     "execution_count": 14,
     "metadata": {},
     "output_type": "execute_result"
    },
    {
     "data": {
      "image/png": "[encoded data removed]",
      "text/plain": [
       "<Figure size 432x288 with 2 Axes>"
      ]
     },
     "metadata": {
      "needs_background": "light"
     },
     "output_type": "display_data"
    }
   ],
   "source": [
    "correlations3 = games_details[['FTM','FTA']].corr()\n",
    "sns.heatmap(correlations3, annot=True)"
   ]
  },
  {
   "cell_type": "code",
   "execution_count": null,
   "metadata": {},
   "outputs": [],
   "source": [
    "#print(\"games\")\n",
    "#games.sort_values(by=\"GAME_DATE_EST\")"
   ]
  },
  {
   "cell_type": "code",
   "execution_count": null,
   "metadata": {},
   "outputs": [],
   "source": [
    "#print(\"players\")\n",
    "#players.sample(5)"
   ]
  },
  {
   "cell_type": "code",
   "execution_count": null,
   "metadata": {},
   "outputs": [],
   "source": [
    "#print(\"rankings\")\n",
    "#df"
   ]
  }
 ],
 "metadata": {
  "kernelspec": {
   "display_name": "Python 3",
   "language": "python",
   "name": "python3"
  },
  "language_info": {
   "codemirror_mode": {
    "name": "ipython",
    "version": 3
   },
   "file_extension": ".py",
   "mimetype": "text/x-python",
   "name": "python",
   "nbconvert_exporter": "python",
   "pygments_lexer": "ipython3",
   "version": "3.8.3"
  }
 },
 "nbformat": 4,
 "nbformat_minor": 4
}
