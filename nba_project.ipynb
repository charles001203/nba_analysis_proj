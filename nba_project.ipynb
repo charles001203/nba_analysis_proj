{
 "cells": [
  {
   "cell_type": "markdown",
   "metadata": {},
   "source": [
    "# NBA Analysis Project"
   ]
  },
  {
   "cell_type": "markdown",
   "metadata": {},
   "source": [
    "Goal: **This project is aiming to predict which nba team will most likely win the 2020-2021 nba championship**\n",
    "\n",
    "Project Planning: When starting a project, I like to outline the steps that I plan to take. This will allow me to break down the project into pieces and help me to minimize the time and effort when I'm debugging in an organized manner. The process is shown below:"
   ]
  },
  {
   "cell_type": "markdown",
   "metadata": {},
   "source": [
    "1. Understand the nature of the data\n",
    "2. Clean the data to obtain the most relevant information\n",
    "3. Create as many plots as possible to visualize the data\n",
    "4. Process missing data\n",
    "5. Explore data\n",
    "and more (to be continued...)"
   ]
  },
  {
   "cell_type": "markdown",
   "metadata": {},
   "source": [
    "## Part 1: Data Cleaning"
   ]
  },
  {
   "cell_type": "code",
   "execution_count": 1,
   "metadata": {},
   "outputs": [
    {
     "name": "stdout",
     "output_type": "stream",
     "text": [
      "Setup Complete\n"
     ]
    }
   ],
   "source": [
    "#import the dependencies and packages\n",
    "import math\n",
    "import numpy as np\n",
    "import pandas as pd\n",
    "import seaborn as sns\n",
    "import matplotlib.pyplot as plt\n",
    "print(\"Setup Complete\")"
   ]
  },
  {
   "cell_type": "code",
   "execution_count": 2,
   "metadata": {},
   "outputs": [
    {
     "name": "stdout",
     "output_type": "stream",
     "text": [
      "games_details csv loaded\n"
     ]
    }
   ],
   "source": [
    "#Load the data using csv\n",
    "games_details = pd.read_csv(\"games_details.csv\")\n",
    "\n",
    "#games = pd.read_csv(\"games.csv\")\n",
    "#players = pd.read_csv(\"players.csv\")\n",
    "#ranking = pd.read_csv(\"ranking.csv\")\n",
    "#teams = pd.read_csv(\"teams.csv\")\n",
    "print(\"games_details csv loaded\")"
   ]
  },
  {
   "cell_type": "markdown",
   "metadata": {},
   "source": [
    "### Table 1: NBA Game Details"
   ]
  },
  {
   "cell_type": "markdown",
   "metadata": {},
   "source": [
    "To start off, I want to get rid of some of the columns as they are just redundant information and aren't helpful for our data analysis. I also want to clean the data by removing the null data to ensure every data block has a meaning."
   ]
  },
  {
   "cell_type": "code",
   "execution_count": 3,
   "metadata": {},
   "outputs": [
    {
     "name": "stdout",
     "output_type": "stream",
     "text": [
      "Title: Games_Details 615626 rows and 28 columns\n",
      "(615626, 28)\n",
      "['game_id', 'team_id', 'team_abbreviation', 'team_city', 'player_id', 'player_name', 'start_position', 'comment', 'min', 'fgm', 'fga', 'fg_pct', 'fg3m', 'fg3a', 'fg3_pct', 'ftm', 'fta', 'ft_pct', 'oreb', 'dreb', 'reb', 'ast', 'stl', 'blk', 'to', 'pf', 'pts', 'plus_minus']\n"
     ]
    },
    {
     "data": {
      "text/html": [
       "<div>\n",
       "<style scoped>\n",
       "    .dataframe tbody tr th:only-of-type {\n",
       "        vertical-align: middle;\n",
       "    }\n",
       "\n",
       "    .dataframe tbody tr th {\n",
       "        vertical-align: top;\n",
       "    }\n",
       "\n",
       "    .dataframe thead th {\n",
       "        text-align: right;\n",
       "    }\n",
       "</style>\n",
       "<table border=\"1\" class=\"dataframe\">\n",
       "  <thead>\n",
       "    <tr style=\"text-align: right;\">\n",
       "      <th></th>\n",
       "      <th>GAME_ID</th>\n",
       "      <th>TEAM_ABBREVIATION</th>\n",
       "      <th>TEAM_CITY</th>\n",
       "      <th>PLAYER_NAME</th>\n",
       "      <th>START_POSITION</th>\n",
       "      <th>MIN</th>\n",
       "      <th>FGM</th>\n",
       "      <th>FGA</th>\n",
       "      <th>FG_PCT</th>\n",
       "      <th>FG3M</th>\n",
       "      <th>...</th>\n",
       "      <th>OREB</th>\n",
       "      <th>DREB</th>\n",
       "      <th>REB</th>\n",
       "      <th>AST</th>\n",
       "      <th>STL</th>\n",
       "      <th>BLK</th>\n",
       "      <th>TO</th>\n",
       "      <th>PF</th>\n",
       "      <th>PTS</th>\n",
       "      <th>PLUS_MINUS</th>\n",
       "    </tr>\n",
       "  </thead>\n",
       "  <tbody>\n",
       "    <tr>\n",
       "      <th>543022</th>\n",
       "      <td>11400001</td>\n",
       "      <td>MIA</td>\n",
       "      <td>Miami</td>\n",
       "      <td>Luol Deng</td>\n",
       "      <td>F</td>\n",
       "      <td>24:50</td>\n",
       "      <td>2.0</td>\n",
       "      <td>7.0</td>\n",
       "      <td>0.286</td>\n",
       "      <td>0.0</td>\n",
       "      <td>...</td>\n",
       "      <td>2.0</td>\n",
       "      <td>1.0</td>\n",
       "      <td>3.0</td>\n",
       "      <td>1.0</td>\n",
       "      <td>2.0</td>\n",
       "      <td>0.0</td>\n",
       "      <td>0.0</td>\n",
       "      <td>0.0</td>\n",
       "      <td>4.0</td>\n",
       "      <td>-16.0</td>\n",
       "    </tr>\n",
       "    <tr>\n",
       "      <th>543023</th>\n",
       "      <td>11400001</td>\n",
       "      <td>MIA</td>\n",
       "      <td>Miami</td>\n",
       "      <td>Udonis Haslem</td>\n",
       "      <td>F</td>\n",
       "      <td>10:32</td>\n",
       "      <td>1.0</td>\n",
       "      <td>2.0</td>\n",
       "      <td>0.500</td>\n",
       "      <td>0.0</td>\n",
       "      <td>...</td>\n",
       "      <td>0.0</td>\n",
       "      <td>2.0</td>\n",
       "      <td>2.0</td>\n",
       "      <td>1.0</td>\n",
       "      <td>1.0</td>\n",
       "      <td>0.0</td>\n",
       "      <td>0.0</td>\n",
       "      <td>2.0</td>\n",
       "      <td>2.0</td>\n",
       "      <td>-8.0</td>\n",
       "    </tr>\n",
       "    <tr>\n",
       "      <th>543024</th>\n",
       "      <td>11400001</td>\n",
       "      <td>MIA</td>\n",
       "      <td>Miami</td>\n",
       "      <td>Chris Bosh</td>\n",
       "      <td>C</td>\n",
       "      <td>25:20</td>\n",
       "      <td>3.0</td>\n",
       "      <td>13.0</td>\n",
       "      <td>0.231</td>\n",
       "      <td>1.0</td>\n",
       "      <td>...</td>\n",
       "      <td>1.0</td>\n",
       "      <td>5.0</td>\n",
       "      <td>6.0</td>\n",
       "      <td>2.0</td>\n",
       "      <td>1.0</td>\n",
       "      <td>0.0</td>\n",
       "      <td>4.0</td>\n",
       "      <td>2.0</td>\n",
       "      <td>9.0</td>\n",
       "      <td>-10.0</td>\n",
       "    </tr>\n",
       "    <tr>\n",
       "      <th>543025</th>\n",
       "      <td>11400001</td>\n",
       "      <td>MIA</td>\n",
       "      <td>Miami</td>\n",
       "      <td>Dwyane Wade</td>\n",
       "      <td>G</td>\n",
       "      <td>20:31</td>\n",
       "      <td>2.0</td>\n",
       "      <td>7.0</td>\n",
       "      <td>0.286</td>\n",
       "      <td>0.0</td>\n",
       "      <td>...</td>\n",
       "      <td>0.0</td>\n",
       "      <td>2.0</td>\n",
       "      <td>2.0</td>\n",
       "      <td>3.0</td>\n",
       "      <td>0.0</td>\n",
       "      <td>0.0</td>\n",
       "      <td>1.0</td>\n",
       "      <td>1.0</td>\n",
       "      <td>6.0</td>\n",
       "      <td>-11.0</td>\n",
       "    </tr>\n",
       "    <tr>\n",
       "      <th>543026</th>\n",
       "      <td>11400001</td>\n",
       "      <td>MIA</td>\n",
       "      <td>Miami</td>\n",
       "      <td>Mario Chalmers</td>\n",
       "      <td>G</td>\n",
       "      <td>21:16</td>\n",
       "      <td>0.0</td>\n",
       "      <td>2.0</td>\n",
       "      <td>0.000</td>\n",
       "      <td>0.0</td>\n",
       "      <td>...</td>\n",
       "      <td>0.0</td>\n",
       "      <td>3.0</td>\n",
       "      <td>3.0</td>\n",
       "      <td>2.0</td>\n",
       "      <td>1.0</td>\n",
       "      <td>0.0</td>\n",
       "      <td>2.0</td>\n",
       "      <td>1.0</td>\n",
       "      <td>2.0</td>\n",
       "      <td>-6.0</td>\n",
       "    </tr>\n",
       "    <tr>\n",
       "      <th>...</th>\n",
       "      <td>...</td>\n",
       "      <td>...</td>\n",
       "      <td>...</td>\n",
       "      <td>...</td>\n",
       "      <td>...</td>\n",
       "      <td>...</td>\n",
       "      <td>...</td>\n",
       "      <td>...</td>\n",
       "      <td>...</td>\n",
       "      <td>...</td>\n",
       "      <td>...</td>\n",
       "      <td>...</td>\n",
       "      <td>...</td>\n",
       "      <td>...</td>\n",
       "      <td>...</td>\n",
       "      <td>...</td>\n",
       "      <td>...</td>\n",
       "      <td>...</td>\n",
       "      <td>...</td>\n",
       "      <td>...</td>\n",
       "      <td>...</td>\n",
       "    </tr>\n",
       "    <tr>\n",
       "      <th>476</th>\n",
       "      <td>52000211</td>\n",
       "      <td>MEM</td>\n",
       "      <td>Memphis</td>\n",
       "      <td>Kyle Anderson</td>\n",
       "      <td>F</td>\n",
       "      <td>39:01</td>\n",
       "      <td>2.0</td>\n",
       "      <td>7.0</td>\n",
       "      <td>0.286</td>\n",
       "      <td>0.0</td>\n",
       "      <td>...</td>\n",
       "      <td>2.0</td>\n",
       "      <td>8.0</td>\n",
       "      <td>10.0</td>\n",
       "      <td>6.0</td>\n",
       "      <td>1.0</td>\n",
       "      <td>2.0</td>\n",
       "      <td>0.0</td>\n",
       "      <td>1.0</td>\n",
       "      <td>9.0</td>\n",
       "      <td>11.0</td>\n",
       "    </tr>\n",
       "    <tr>\n",
       "      <th>477</th>\n",
       "      <td>52000211</td>\n",
       "      <td>MEM</td>\n",
       "      <td>Memphis</td>\n",
       "      <td>Jaren Jackson Jr.</td>\n",
       "      <td>F</td>\n",
       "      <td>14:56</td>\n",
       "      <td>1.0</td>\n",
       "      <td>6.0</td>\n",
       "      <td>0.167</td>\n",
       "      <td>1.0</td>\n",
       "      <td>...</td>\n",
       "      <td>2.0</td>\n",
       "      <td>0.0</td>\n",
       "      <td>2.0</td>\n",
       "      <td>0.0</td>\n",
       "      <td>0.0</td>\n",
       "      <td>2.0</td>\n",
       "      <td>1.0</td>\n",
       "      <td>4.0</td>\n",
       "      <td>10.0</td>\n",
       "      <td>1.0</td>\n",
       "    </tr>\n",
       "    <tr>\n",
       "      <th>478</th>\n",
       "      <td>52000211</td>\n",
       "      <td>MEM</td>\n",
       "      <td>Memphis</td>\n",
       "      <td>Jonas Valanciunas</td>\n",
       "      <td>C</td>\n",
       "      <td>25:33</td>\n",
       "      <td>3.0</td>\n",
       "      <td>6.0</td>\n",
       "      <td>0.500</td>\n",
       "      <td>1.0</td>\n",
       "      <td>...</td>\n",
       "      <td>6.0</td>\n",
       "      <td>6.0</td>\n",
       "      <td>12.0</td>\n",
       "      <td>3.0</td>\n",
       "      <td>0.0</td>\n",
       "      <td>0.0</td>\n",
       "      <td>3.0</td>\n",
       "      <td>6.0</td>\n",
       "      <td>9.0</td>\n",
       "      <td>7.0</td>\n",
       "    </tr>\n",
       "    <tr>\n",
       "      <th>479</th>\n",
       "      <td>52000211</td>\n",
       "      <td>MEM</td>\n",
       "      <td>Memphis</td>\n",
       "      <td>Dillon Brooks</td>\n",
       "      <td>G</td>\n",
       "      <td>45:04</td>\n",
       "      <td>7.0</td>\n",
       "      <td>22.0</td>\n",
       "      <td>0.318</td>\n",
       "      <td>0.0</td>\n",
       "      <td>...</td>\n",
       "      <td>1.0</td>\n",
       "      <td>1.0</td>\n",
       "      <td>2.0</td>\n",
       "      <td>3.0</td>\n",
       "      <td>2.0</td>\n",
       "      <td>0.0</td>\n",
       "      <td>1.0</td>\n",
       "      <td>5.0</td>\n",
       "      <td>14.0</td>\n",
       "      <td>-1.0</td>\n",
       "    </tr>\n",
       "    <tr>\n",
       "      <th>480</th>\n",
       "      <td>52000211</td>\n",
       "      <td>MEM</td>\n",
       "      <td>Memphis</td>\n",
       "      <td>Ja Morant</td>\n",
       "      <td>G</td>\n",
       "      <td>45:45</td>\n",
       "      <td>14.0</td>\n",
       "      <td>29.0</td>\n",
       "      <td>0.483</td>\n",
       "      <td>5.0</td>\n",
       "      <td>...</td>\n",
       "      <td>2.0</td>\n",
       "      <td>4.0</td>\n",
       "      <td>6.0</td>\n",
       "      <td>6.0</td>\n",
       "      <td>4.0</td>\n",
       "      <td>0.0</td>\n",
       "      <td>5.0</td>\n",
       "      <td>2.0</td>\n",
       "      <td>35.0</td>\n",
       "      <td>-1.0</td>\n",
       "    </tr>\n",
       "  </tbody>\n",
       "</table>\n",
       "<p>235795 rows × 25 columns</p>\n",
       "</div>"
      ],
      "text/plain": [
       "         GAME_ID TEAM_ABBREVIATION TEAM_CITY        PLAYER_NAME  \\\n",
       "543022  11400001               MIA     Miami          Luol Deng   \n",
       "543023  11400001               MIA     Miami      Udonis Haslem   \n",
       "543024  11400001               MIA     Miami         Chris Bosh   \n",
       "543025  11400001               MIA     Miami        Dwyane Wade   \n",
       "543026  11400001               MIA     Miami     Mario Chalmers   \n",
       "...          ...               ...       ...                ...   \n",
       "476     52000211               MEM   Memphis      Kyle Anderson   \n",
       "477     52000211               MEM   Memphis  Jaren Jackson Jr.   \n",
       "478     52000211               MEM   Memphis  Jonas Valanciunas   \n",
       "479     52000211               MEM   Memphis      Dillon Brooks   \n",
       "480     52000211               MEM   Memphis          Ja Morant   \n",
       "\n",
       "       START_POSITION    MIN   FGM   FGA  FG_PCT  FG3M  ...  OREB  DREB   REB  \\\n",
       "543022              F  24:50   2.0   7.0   0.286   0.0  ...   2.0   1.0   3.0   \n",
       "543023              F  10:32   1.0   2.0   0.500   0.0  ...   0.0   2.0   2.0   \n",
       "543024              C  25:20   3.0  13.0   0.231   1.0  ...   1.0   5.0   6.0   \n",
       "543025              G  20:31   2.0   7.0   0.286   0.0  ...   0.0   2.0   2.0   \n",
       "543026              G  21:16   0.0   2.0   0.000   0.0  ...   0.0   3.0   3.0   \n",
       "...               ...    ...   ...   ...     ...   ...  ...   ...   ...   ...   \n",
       "476                 F  39:01   2.0   7.0   0.286   0.0  ...   2.0   8.0  10.0   \n",
       "477                 F  14:56   1.0   6.0   0.167   1.0  ...   2.0   0.0   2.0   \n",
       "478                 C  25:33   3.0   6.0   0.500   1.0  ...   6.0   6.0  12.0   \n",
       "479                 G  45:04   7.0  22.0   0.318   0.0  ...   1.0   1.0   2.0   \n",
       "480                 G  45:45  14.0  29.0   0.483   5.0  ...   2.0   4.0   6.0   \n",
       "\n",
       "        AST  STL  BLK   TO   PF   PTS  PLUS_MINUS  \n",
       "543022  1.0  2.0  0.0  0.0  0.0   4.0       -16.0  \n",
       "543023  1.0  1.0  0.0  0.0  2.0   2.0        -8.0  \n",
       "543024  2.0  1.0  0.0  4.0  2.0   9.0       -10.0  \n",
       "543025  3.0  0.0  0.0  1.0  1.0   6.0       -11.0  \n",
       "543026  2.0  1.0  0.0  2.0  1.0   2.0        -6.0  \n",
       "...     ...  ...  ...  ...  ...   ...         ...  \n",
       "476     6.0  1.0  2.0  0.0  1.0   9.0        11.0  \n",
       "477     0.0  0.0  2.0  1.0  4.0  10.0         1.0  \n",
       "478     3.0  0.0  0.0  3.0  6.0   9.0         7.0  \n",
       "479     3.0  2.0  0.0  1.0  5.0  14.0        -1.0  \n",
       "480     6.0  4.0  0.0  5.0  2.0  35.0        -1.0  \n",
       "\n",
       "[235795 rows x 25 columns]"
      ]
     },
     "execution_count": 3,
     "metadata": {},
     "output_type": "execute_result"
    }
   ],
   "source": [
    "print(\"Title: Games_Details 615626 rows and 28 columns\")\n",
    "print(games_details.shape)\n",
    "\n",
    "#get rid of start_position null value\n",
    "games_details = games_details[games_details['START_POSITION'].notna()]\n",
    "col_list = []\n",
    "for col in games_details.columns:\n",
    "    col_list.append(col.lower())\n",
    "print(col_list)\n",
    "\n",
    "games_details.pop(\"PLAYER_ID\")\n",
    "#games_details.pop(\"GAME_ID\")\n",
    "games_details.pop(\"TEAM_ID\")\n",
    "games_details.pop(\"COMMENT\")\n",
    "\n",
    "games_details.sort_values(by=['GAME_ID','TEAM_ABBREVIATION'],inplace=True)\n",
    "games_details\n",
    "#find the average of each numeric column\n",
    "#games_details.mean()"
   ]
  },
  {
   "cell_type": "markdown",
   "metadata": {},
   "source": [
    "As we can see, the column names can be very confusing, so just want to clarify full names of the abbreviations\n",
    "* FGM: Field Goal Made\n",
    "* FGA: Field Goal Attempt\n",
    "* FG_PCT: Field Goal Percentage %\n",
    "* FG3M: Field Goal 3 pointers Made\n",
    "* FG3A: Field Goal 3 pointer Attempt\n",
    "* FG3_PCT: Field Goal 3 pointers Percentage %\n",
    "* FTM: Free Throw Made\n",
    "* FTA: Free Throw Attempt\n",
    "* FT_PCT: Free Throw Percentage %\n",
    "* OREB: Offensive rebound\n",
    "* DREB: Defensive rebound\n",
    "* REB: rebound\n",
    "* AST: assists\n",
    "* STL: Steal\n",
    "* BLK: Block\n",
    "* TO: Turnover\n",
    "* PF: Personal Fouls\n",
    "* PTS: Points\n",
    "* PLUS_MINUS: plus minus"
   ]
  },
  {
   "cell_type": "markdown",
   "metadata": {},
   "source": [
    "I know. These are a lot of information that is shown and it's quite intimdating for a nba sports newbie to understand everything. So I highly recommend those who don't understand these terminologies by checking the wikipedia page: https://en.wikipedia.org/wiki/Rules_of_basketball. Enough said, let's keep navigating through our data."
   ]
  },
  {
   "cell_type": "markdown",
   "metadata": {},
   "source": [
    "## Part 2: Data Analysis"
   ]
  },
  {
   "cell_type": "markdown",
   "metadata": {},
   "source": [
    "To understand how each team is doing throughout the past ten or more years, I want to extract their game statistics from each season and compare their performance in each season. First, let's take a look the relationship between rebound and assist."
   ]
  },
  {
   "cell_type": "code",
   "execution_count": 4,
   "metadata": {},
   "outputs": [
    {
     "data": {
      "text/plain": [
       "<seaborn.axisgrid.PairGrid at 0x7ffee285cc10>"
      ]
     },
     "execution_count": 4,
     "metadata": {},
     "output_type": "execute_result"
    },
    {
     "data": {
      "image/png": "[encoded data removed]",
      "text/plain": [
       "<Figure size 360x360 with 6 Axes>"
      ]
     },
     "metadata": {
      "needs_background": "light"
     },
     "output_type": "display_data"
    }
   ],
   "source": [
    "sns.pairplot(games_details,vars=['REB','AST'],kind=\"scatter\",diag_kind = \"kde\")"
   ]
  },
  {
   "cell_type": "markdown",
   "metadata": {},
   "source": [
    "As we can see, as players get more rebounds, they tend to get fewer assists, and vise versa. This implies that some players might play as center (with the most rebounds) while other players might player as point guard (with the most assists).\n",
    "\n",
    "Now, let's take a look at the relationship between rebound and points"
   ]
  },
  {
   "cell_type": "code",
   "execution_count": 11,
   "metadata": {},
   "outputs": [
    {
     "data": {
      "text/plain": [
       "<seaborn.axisgrid.PairGrid at 0x7ffee1fa5a60>"
      ]
     },
     "execution_count": 11,
     "metadata": {},
     "output_type": "execute_result"
    },
    {
     "data": {
      "image/png": "[encoded data removed]",
      "text/plain": [
       "<Figure size 360x360 with 6 Axes>"
      ]
     },
     "metadata": {
      "needs_background": "light"
     },
     "output_type": "display_data"
    }
   ],
   "source": [
    "sns.pairplot(games_details,vars=['REB','PTS'],kind=\"scatter\",diag_kind = \"kde\")"
   ]
  },
  {
   "cell_type": "markdown",
   "metadata": {},
   "source": [
    "Looking at the pattern of the first scatterplot, we can't tell an obvious positive or negative correlations from the plot. We notice, however, that the players get the most rebounds when they score about 25 points. We can infer that players score over 20 points tend to get the most rebounds. We can imply that these players are pretty tall due to their height advantages of reaching rebounds. Those players tend to get high score while maintaining a solid rebound stats. Those are the players tend to be very well-rounded and therefore all-star level players. \n",
    "\n",
    "Our next step is to find those types of players and discover which team they are on. To do so, we need to filter out some data."
   ]
  },
  {
   "cell_type": "code",
   "execution_count": 22,
   "metadata": {},
   "outputs": [
    {
     "data": {
      "text/html": [
       "<div>\n",
       "<style scoped>\n",
       "    .dataframe tbody tr th:only-of-type {\n",
       "        vertical-align: middle;\n",
       "    }\n",
       "\n",
       "    .dataframe tbody tr th {\n",
       "        vertical-align: top;\n",
       "    }\n",
       "\n",
       "    .dataframe thead th {\n",
       "        text-align: right;\n",
       "    }\n",
       "</style>\n",
       "<table border=\"1\" class=\"dataframe\">\n",
       "  <thead>\n",
       "    <tr style=\"text-align: right;\">\n",
       "      <th></th>\n",
       "      <th>GAME_ID</th>\n",
       "      <th>TEAM_ABBREVIATION</th>\n",
       "      <th>TEAM_CITY</th>\n",
       "      <th>PLAYER_NAME</th>\n",
       "      <th>START_POSITION</th>\n",
       "      <th>MIN</th>\n",
       "      <th>FGM</th>\n",
       "      <th>FGA</th>\n",
       "      <th>FG_PCT</th>\n",
       "      <th>FG3M</th>\n",
       "      <th>...</th>\n",
       "      <th>OREB</th>\n",
       "      <th>DREB</th>\n",
       "      <th>REB</th>\n",
       "      <th>AST</th>\n",
       "      <th>STL</th>\n",
       "      <th>BLK</th>\n",
       "      <th>TO</th>\n",
       "      <th>PF</th>\n",
       "      <th>PTS</th>\n",
       "      <th>PLUS_MINUS</th>\n",
       "    </tr>\n",
       "  </thead>\n",
       "  <tbody>\n",
       "    <tr>\n",
       "      <th>540231</th>\n",
       "      <td>11400091</td>\n",
       "      <td>SAC</td>\n",
       "      <td>Sacramento</td>\n",
       "      <td>DeMarcus Cousins</td>\n",
       "      <td>C</td>\n",
       "      <td>35:53</td>\n",
       "      <td>12.0</td>\n",
       "      <td>14.0</td>\n",
       "      <td>0.857</td>\n",
       "      <td>0.0</td>\n",
       "      <td>...</td>\n",
       "      <td>1.0</td>\n",
       "      <td>10.0</td>\n",
       "      <td>11.0</td>\n",
       "      <td>4.0</td>\n",
       "      <td>2.0</td>\n",
       "      <td>1.0</td>\n",
       "      <td>10.0</td>\n",
       "      <td>5.0</td>\n",
       "      <td>32.0</td>\n",
       "      <td>-3.0</td>\n",
       "    </tr>\n",
       "    <tr>\n",
       "      <th>502911</th>\n",
       "      <td>11500087</td>\n",
       "      <td>IND</td>\n",
       "      <td>Indiana</td>\n",
       "      <td>Paul George</td>\n",
       "      <td>F</td>\n",
       "      <td>35:12</td>\n",
       "      <td>8.0</td>\n",
       "      <td>18.0</td>\n",
       "      <td>0.444</td>\n",
       "      <td>4.0</td>\n",
       "      <td>...</td>\n",
       "      <td>3.0</td>\n",
       "      <td>10.0</td>\n",
       "      <td>13.0</td>\n",
       "      <td>0.0</td>\n",
       "      <td>2.0</td>\n",
       "      <td>1.0</td>\n",
       "      <td>2.0</td>\n",
       "      <td>3.0</td>\n",
       "      <td>26.0</td>\n",
       "      <td>6.0</td>\n",
       "    </tr>\n",
       "    <tr>\n",
       "      <th>502875</th>\n",
       "      <td>11500092</td>\n",
       "      <td>NOP</td>\n",
       "      <td>New Orleans</td>\n",
       "      <td>Anthony Davis</td>\n",
       "      <td>F</td>\n",
       "      <td>40:36</td>\n",
       "      <td>8.0</td>\n",
       "      <td>24.0</td>\n",
       "      <td>0.333</td>\n",
       "      <td>0.0</td>\n",
       "      <td>...</td>\n",
       "      <td>2.0</td>\n",
       "      <td>14.0</td>\n",
       "      <td>16.0</td>\n",
       "      <td>0.0</td>\n",
       "      <td>2.0</td>\n",
       "      <td>5.0</td>\n",
       "      <td>2.0</td>\n",
       "      <td>4.0</td>\n",
       "      <td>33.0</td>\n",
       "      <td>-10.0</td>\n",
       "    </tr>\n",
       "    <tr>\n",
       "      <th>502409</th>\n",
       "      <td>11500104</td>\n",
       "      <td>NOP</td>\n",
       "      <td>New Orleans</td>\n",
       "      <td>Anthony Davis</td>\n",
       "      <td>F</td>\n",
       "      <td>36:03</td>\n",
       "      <td>7.0</td>\n",
       "      <td>20.0</td>\n",
       "      <td>0.350</td>\n",
       "      <td>2.0</td>\n",
       "      <td>...</td>\n",
       "      <td>4.0</td>\n",
       "      <td>9.0</td>\n",
       "      <td>13.0</td>\n",
       "      <td>5.0</td>\n",
       "      <td>1.0</td>\n",
       "      <td>5.0</td>\n",
       "      <td>3.0</td>\n",
       "      <td>4.0</td>\n",
       "      <td>25.0</td>\n",
       "      <td>21.0</td>\n",
       "    </tr>\n",
       "    <tr>\n",
       "      <th>465565</th>\n",
       "      <td>11600093</td>\n",
       "      <td>NOP</td>\n",
       "      <td>New Orleans</td>\n",
       "      <td>Anthony Davis</td>\n",
       "      <td>F</td>\n",
       "      <td>37:27</td>\n",
       "      <td>11.0</td>\n",
       "      <td>25.0</td>\n",
       "      <td>0.440</td>\n",
       "      <td>2.0</td>\n",
       "      <td>...</td>\n",
       "      <td>5.0</td>\n",
       "      <td>8.0</td>\n",
       "      <td>13.0</td>\n",
       "      <td>4.0</td>\n",
       "      <td>0.0</td>\n",
       "      <td>0.0</td>\n",
       "      <td>5.0</td>\n",
       "      <td>2.0</td>\n",
       "      <td>33.0</td>\n",
       "      <td>3.0</td>\n",
       "    </tr>\n",
       "    <tr>\n",
       "      <th>...</th>\n",
       "      <td>...</td>\n",
       "      <td>...</td>\n",
       "      <td>...</td>\n",
       "      <td>...</td>\n",
       "      <td>...</td>\n",
       "      <td>...</td>\n",
       "      <td>...</td>\n",
       "      <td>...</td>\n",
       "      <td>...</td>\n",
       "      <td>...</td>\n",
       "      <td>...</td>\n",
       "      <td>...</td>\n",
       "      <td>...</td>\n",
       "      <td>...</td>\n",
       "      <td>...</td>\n",
       "      <td>...</td>\n",
       "      <td>...</td>\n",
       "      <td>...</td>\n",
       "      <td>...</td>\n",
       "      <td>...</td>\n",
       "      <td>...</td>\n",
       "    </tr>\n",
       "    <tr>\n",
       "      <th>464</th>\n",
       "      <td>42000161</td>\n",
       "      <td>DEN</td>\n",
       "      <td>Denver</td>\n",
       "      <td>Nikola Jokic</td>\n",
       "      <td>C</td>\n",
       "      <td>35:21</td>\n",
       "      <td>14.0</td>\n",
       "      <td>27.0</td>\n",
       "      <td>0.519</td>\n",
       "      <td>3.0</td>\n",
       "      <td>...</td>\n",
       "      <td>3.0</td>\n",
       "      <td>13.0</td>\n",
       "      <td>16.0</td>\n",
       "      <td>1.0</td>\n",
       "      <td>0.0</td>\n",
       "      <td>0.0</td>\n",
       "      <td>1.0</td>\n",
       "      <td>1.0</td>\n",
       "      <td>34.0</td>\n",
       "      <td>-13.0</td>\n",
       "    </tr>\n",
       "    <tr>\n",
       "      <th>391</th>\n",
       "      <td>42000171</td>\n",
       "      <td>DAL</td>\n",
       "      <td>Dallas</td>\n",
       "      <td>Luka Doncic</td>\n",
       "      <td>G</td>\n",
       "      <td>40:46</td>\n",
       "      <td>11.0</td>\n",
       "      <td>24.0</td>\n",
       "      <td>0.458</td>\n",
       "      <td>5.0</td>\n",
       "      <td>...</td>\n",
       "      <td>1.0</td>\n",
       "      <td>9.0</td>\n",
       "      <td>10.0</td>\n",
       "      <td>11.0</td>\n",
       "      <td>1.0</td>\n",
       "      <td>2.0</td>\n",
       "      <td>3.0</td>\n",
       "      <td>3.0</td>\n",
       "      <td>31.0</td>\n",
       "      <td>19.0</td>\n",
       "    </tr>\n",
       "    <tr>\n",
       "      <th>402</th>\n",
       "      <td>42000171</td>\n",
       "      <td>LAC</td>\n",
       "      <td>LA</td>\n",
       "      <td>Kawhi Leonard</td>\n",
       "      <td>F</td>\n",
       "      <td>40:46</td>\n",
       "      <td>9.0</td>\n",
       "      <td>22.0</td>\n",
       "      <td>0.409</td>\n",
       "      <td>1.0</td>\n",
       "      <td>...</td>\n",
       "      <td>2.0</td>\n",
       "      <td>8.0</td>\n",
       "      <td>10.0</td>\n",
       "      <td>5.0</td>\n",
       "      <td>4.0</td>\n",
       "      <td>0.0</td>\n",
       "      <td>0.0</td>\n",
       "      <td>2.0</td>\n",
       "      <td>26.0</td>\n",
       "      <td>-15.0</td>\n",
       "    </tr>\n",
       "    <tr>\n",
       "      <th>167</th>\n",
       "      <td>42000172</td>\n",
       "      <td>LAC</td>\n",
       "      <td>LA</td>\n",
       "      <td>Paul George</td>\n",
       "      <td>G</td>\n",
       "      <td>40:29</td>\n",
       "      <td>12.0</td>\n",
       "      <td>22.0</td>\n",
       "      <td>0.545</td>\n",
       "      <td>1.0</td>\n",
       "      <td>...</td>\n",
       "      <td>0.0</td>\n",
       "      <td>12.0</td>\n",
       "      <td>12.0</td>\n",
       "      <td>6.0</td>\n",
       "      <td>1.0</td>\n",
       "      <td>0.0</td>\n",
       "      <td>2.0</td>\n",
       "      <td>4.0</td>\n",
       "      <td>28.0</td>\n",
       "      <td>-18.0</td>\n",
       "    </tr>\n",
       "    <tr>\n",
       "      <th>574</th>\n",
       "      <td>52000121</td>\n",
       "      <td>LAL</td>\n",
       "      <td>Los Angeles</td>\n",
       "      <td>Anthony Davis</td>\n",
       "      <td>F</td>\n",
       "      <td>42:14</td>\n",
       "      <td>10.0</td>\n",
       "      <td>24.0</td>\n",
       "      <td>0.417</td>\n",
       "      <td>1.0</td>\n",
       "      <td>...</td>\n",
       "      <td>2.0</td>\n",
       "      <td>10.0</td>\n",
       "      <td>12.0</td>\n",
       "      <td>2.0</td>\n",
       "      <td>2.0</td>\n",
       "      <td>1.0</td>\n",
       "      <td>3.0</td>\n",
       "      <td>4.0</td>\n",
       "      <td>25.0</td>\n",
       "      <td>2.0</td>\n",
       "    </tr>\n",
       "  </tbody>\n",
       "</table>\n",
       "<p>6298 rows × 25 columns</p>\n",
       "</div>"
      ],
      "text/plain": [
       "         GAME_ID TEAM_ABBREVIATION    TEAM_CITY       PLAYER_NAME  \\\n",
       "540231  11400091               SAC   Sacramento  DeMarcus Cousins   \n",
       "502911  11500087               IND      Indiana       Paul George   \n",
       "502875  11500092               NOP  New Orleans     Anthony Davis   \n",
       "502409  11500104               NOP  New Orleans     Anthony Davis   \n",
       "465565  11600093               NOP  New Orleans     Anthony Davis   \n",
       "...          ...               ...          ...               ...   \n",
       "464     42000161               DEN       Denver      Nikola Jokic   \n",
       "391     42000171               DAL       Dallas       Luka Doncic   \n",
       "402     42000171               LAC           LA     Kawhi Leonard   \n",
       "167     42000172               LAC           LA       Paul George   \n",
       "574     52000121               LAL  Los Angeles     Anthony Davis   \n",
       "\n",
       "       START_POSITION    MIN   FGM   FGA  FG_PCT  FG3M  ...  OREB  DREB   REB  \\\n",
       "540231              C  35:53  12.0  14.0   0.857   0.0  ...   1.0  10.0  11.0   \n",
       "502911              F  35:12   8.0  18.0   0.444   4.0  ...   3.0  10.0  13.0   \n",
       "502875              F  40:36   8.0  24.0   0.333   0.0  ...   2.0  14.0  16.0   \n",
       "502409              F  36:03   7.0  20.0   0.350   2.0  ...   4.0   9.0  13.0   \n",
       "465565              F  37:27  11.0  25.0   0.440   2.0  ...   5.0   8.0  13.0   \n",
       "...               ...    ...   ...   ...     ...   ...  ...   ...   ...   ...   \n",
       "464                 C  35:21  14.0  27.0   0.519   3.0  ...   3.0  13.0  16.0   \n",
       "391                 G  40:46  11.0  24.0   0.458   5.0  ...   1.0   9.0  10.0   \n",
       "402                 F  40:46   9.0  22.0   0.409   1.0  ...   2.0   8.0  10.0   \n",
       "167                 G  40:29  12.0  22.0   0.545   1.0  ...   0.0  12.0  12.0   \n",
       "574                 F  42:14  10.0  24.0   0.417   1.0  ...   2.0  10.0  12.0   \n",
       "\n",
       "         AST  STL  BLK    TO   PF   PTS  PLUS_MINUS  \n",
       "540231   4.0  2.0  1.0  10.0  5.0  32.0        -3.0  \n",
       "502911   0.0  2.0  1.0   2.0  3.0  26.0         6.0  \n",
       "502875   0.0  2.0  5.0   2.0  4.0  33.0       -10.0  \n",
       "502409   5.0  1.0  5.0   3.0  4.0  25.0        21.0  \n",
       "465565   4.0  0.0  0.0   5.0  2.0  33.0         3.0  \n",
       "...      ...  ...  ...   ...  ...   ...         ...  \n",
       "464      1.0  0.0  0.0   1.0  1.0  34.0       -13.0  \n",
       "391     11.0  1.0  2.0   3.0  3.0  31.0        19.0  \n",
       "402      5.0  4.0  0.0   0.0  2.0  26.0       -15.0  \n",
       "167      6.0  1.0  0.0   2.0  4.0  28.0       -18.0  \n",
       "574      2.0  2.0  1.0   3.0  4.0  25.0         2.0  \n",
       "\n",
       "[6298 rows x 25 columns]"
      ]
     },
     "execution_count": 22,
     "metadata": {},
     "output_type": "execute_result"
    }
   ],
   "source": [
    "games_details[(games_details['PTS']>=25) & (games_details['REB']>=10)]"
   ]
  },
  {
   "cell_type": "markdown",
   "metadata": {},
   "source": [
    "After filtering game details table with players scoring over 25 points and rebounding over 10 rebounds, we can easily observe that these players tend to be well-known all-star level players, which makes a lot of sense. To further exploring these data, I want to create a barplot to find which team has the most high performing players."
   ]
  },
  {
   "cell_type": "code",
   "execution_count": 53,
   "metadata": {},
   "outputs": [
    {
     "data": {
      "image/png": "[encoded data removed]",
      "text/plain": [
       "<Figure size 2880x720 with 1 Axes>"
      ]
     },
     "metadata": {
      "needs_background": "light"
     },
     "output_type": "display_data"
    }
   ],
   "source": [
    "data = {}\n",
    "\n",
    "for i in games_details['TEAM_CITY']:\n",
    "    if i in data:\n",
    "        data[i] += 1\n",
    "    else:\n",
    "        data[i] = 1\n",
    "\n",
    "#data\n",
    "#newdata = sorted(data.values())\n",
    "#print(newdata)\n",
    "sort_data = dict(sorted(data.items(), key=lambda item: item[1]))\n",
    "teams = list(sort_data.keys())\n",
    "totalnum = list(sort_data.values())\n",
    "  \n",
    "fig = plt.figure(figsize = (40, 10))\n",
    "\n",
    "# creating the bar plot\n",
    "plt.bar(teams, totalnum, color ='gray', edgecolor='blue', width = 0.5)\n",
    " \n",
    "plt.xlabel(\"NBA Teams\")\n",
    "plt.ylabel(\"Total number of each team that has player with high performance\")\n",
    "plt.title(\"NBA Teams vs. Total number of each team that has player with high performance\")\n",
    "plt.show()"
   ]
  },
  {
   "cell_type": "markdown",
   "metadata": {},
   "source": [
    "The barplot shows the relationship between NBA teams and total number of games each team has high performing player in an ascending order. The top five teams are cities like LA, San Antonio, Miami, Boston, and Cleveland. From many years of watching the NBA, Los Angeles is no doubt attracts many all-star level nba players, as it has Lakers and Clippers. Following that is the San Antonio Spurs which is known for its big three. Then, the Boston Celtics is one of the hottest teams as it has won the most championships in the history. Overall, we can conclude that teams in bigger cities (LA, Boston) and franchise history attracts more higher performing players who score over 25 points per game and getting more than 10 rebounds per game. Those teams are very likely to win the championship.\n",
    "\n",
    "However, we are more curious about how the NBA teams perform in 2020-2021 season. So let's just dive into more data"
   ]
  },
  {
   "cell_type": "code",
   "execution_count": 16,
   "metadata": {},
   "outputs": [
    {
     "data": {
      "text/plain": [
       "<matplotlib.axes._subplots.AxesSubplot at 0x7ffebf7c02e0>"
      ]
     },
     "execution_count": 16,
     "metadata": {},
     "output_type": "execute_result"
    },
    {
     "data": {
      "image/png": "[encoded data removed]",
      "text/plain": [
       "<Figure size 432x288 with 2 Axes>"
      ]
     },
     "metadata": {
      "needs_background": "light"
     },
     "output_type": "display_data"
    }
   ],
   "source": [
    "#Make a heatmap to see correlations\n",
    "correlations1 = games_details[['FG3M','FG3A','FG_PCT']].corr()\n",
    "sns.heatmap(correlations1, annot=True)"
   ]
  },
  {
   "cell_type": "code",
   "execution_count": 6,
   "metadata": {},
   "outputs": [
    {
     "data": {
      "text/plain": [
       "<matplotlib.axes._subplots.AxesSubplot at 0x7ffec00ce730>"
      ]
     },
     "execution_count": 6,
     "metadata": {},
     "output_type": "execute_result"
    },
    {
     "data": {
      "image/png": "[encoded data removed]",
      "text/plain": [
       "<Figure size 432x288 with 2 Axes>"
      ]
     },
     "metadata": {
      "needs_background": "light"
     },
     "output_type": "display_data"
    }
   ],
   "source": [
    "#Make a heatmap to see correlations\n",
    "correlations2 = games_details[['FGM','FGA','FG3_PCT']].corr()\n",
    "sns.heatmap(correlations2, annot=True)"
   ]
  },
  {
   "cell_type": "code",
   "execution_count": 7,
   "metadata": {},
   "outputs": [
    {
     "data": {
      "text/plain": [
       "<matplotlib.axes._subplots.AxesSubplot at 0x7ffec03da160>"
      ]
     },
     "execution_count": 7,
     "metadata": {},
     "output_type": "execute_result"
    },
    {
     "data": {
      "image/png": "[encoded data removed]",
      "text/plain": [
       "<Figure size 432x288 with 2 Axes>"
      ]
     },
     "metadata": {
      "needs_background": "light"
     },
     "output_type": "display_data"
    }
   ],
   "source": [
    "correlations3 = games_details[['FTM','FTA']].corr()\n",
    "sns.heatmap(correlations3, annot=True)"
   ]
  },
  {
   "cell_type": "code",
   "execution_count": 8,
   "metadata": {},
   "outputs": [],
   "source": [
    "#print(\"games\")\n",
    "#games.sort_values(by=\"GAME_DATE_EST\")"
   ]
  },
  {
   "cell_type": "code",
   "execution_count": 9,
   "metadata": {},
   "outputs": [],
   "source": [
    "#print(\"players\")\n",
    "#players.sample(5)"
   ]
  },
  {
   "cell_type": "code",
   "execution_count": 10,
   "metadata": {},
   "outputs": [],
   "source": [
    "#print(\"rankings\")\n",
    "#df"
   ]
  }
 ],
 "metadata": {
  "kernelspec": {
   "display_name": "Python 3",
   "language": "python",
   "name": "python3"
  },
  "language_info": {
   "codemirror_mode": {
    "name": "ipython",
    "version": 3
   },
   "file_extension": ".py",
   "mimetype": "text/x-python",
   "name": "python",
   "nbconvert_exporter": "python",
   "pygments_lexer": "ipython3",
   "version": "3.8.3"
  }
 },
 "nbformat": 4,
 "nbformat_minor": 4
}
