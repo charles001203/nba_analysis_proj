{
 "cells": [
  {
   "cell_type": "markdown",
   "metadata": {},
   "source": [
    "# NBA Analysis Project Part 1: Data Cleaning"
   ]
  },
  {
   "cell_type": "markdown",
   "metadata": {},
   "source": [
    "Goal: **This project is aiming to predict which nba team will most likely win the 2020-2021 nba championship**\n",
    "\n",
    "Project Planning: When starting a project, I like to outline the steps that I plan to take. This will allow me to break down the project into pieces and help me to minimize the time and effort when I'm debugging in an organized manner. The process is shown below:"
   ]
  },
  {
   "cell_type": "markdown",
   "metadata": {},
   "source": [
    "1. Understand the nature of the data\n",
    "2. Clean the data to obtain the most relevant information\n",
    "3. Create as many plots as possible to visualize the data\n",
    "4. Process missing data\n",
    "5. Explore data\n",
    "and more (to be continued...)"
   ]
  },
  {
   "cell_type": "code",
   "execution_count": null,
   "metadata": {},
   "outputs": [],
   "source": [
    "#import the dependencies and packages\n",
    "import math\n",
    "import numpy as np\n",
    "import pandas as pd\n",
    "import seaborn as sns\n",
    "import matplotlib.pyplot as plt\n",
    "print(\"Setup Complete\")"
   ]
  },
  {
   "cell_type": "code",
   "execution_count": null,
   "metadata": {},
   "outputs": [],
   "source": [
    "#Load the data using csv\n",
    "games_details = pd.read_csv(\"games_details.csv\")\n",
    "\n",
    "#games = pd.read_csv(\"games.csv\")\n",
    "#players = pd.read_csv(\"players.csv\")\n",
    "#ranking = pd.read_csv(\"ranking.csv\")\n",
    "#teams = pd.read_csv(\"teams.csv\")\n",
    "print(\"games_details csv loaded\")"
   ]
  },
  {
   "cell_type": "markdown",
   "metadata": {},
   "source": [
    "### Data Table 1: NBA Game Details"
   ]
  },
  {
   "cell_type": "markdown",
   "metadata": {},
   "source": [
    "To start off, I want to get rid of some of the columns as they are just redundant information and aren't helpful for our data analysis. I also want to clean the data by removing the null data to ensure every data block has a meaning."
   ]
  },
  {
   "cell_type": "code",
   "execution_count": null,
   "metadata": {},
   "outputs": [],
   "source": [
    "print(\"Title: Games_Details 615626 rows and 28 columns\")\n",
    "print(games_details.shape)\n",
    "\n",
    "#get rid of start_position null value\n",
    "games_details = games_details[games_details['START_POSITION'].notna()]\n",
    "col_list = []\n",
    "for col in games_details.columns:\n",
    "    col_list.append(col.lower())\n",
    "print(col_list)\n",
    "\n",
    "games_details.pop(\"PLAYER_ID\")\n",
    "#games_details.pop(\"GAME_ID\")\n",
    "games_details.pop(\"TEAM_ID\")\n",
    "games_details.pop(\"COMMENT\")\n",
    "\n",
    "games_details.sort_values(by=['GAME_ID','TEAM_ABBREVIATION'],inplace=True)\n",
    "games_details\n",
    "#find the average of each numeric column\n",
    "#games_details.mean()"
   ]
  },
  {
   "cell_type": "markdown",
   "metadata": {},
   "source": [
    "As we can see, the column names can be very confusing, so just want to clarify full names of the abbreviations\n",
    "* FGM: Field Goal Made\n",
    "* FGA: Field Goal Attempt\n",
    "* FG_PCT: Field Goal Percentage %\n",
    "* FG3M: Field Goal 3 pointers Made\n",
    "* FG3A: Field Goal 3 pointer Attempt\n",
    "* FG_PCT: Field Goal 3 pointers Percentage %\n",
    "* FTM: Free Throw Made\n",
    "* FTA: Free Throw Attempt\n",
    "* FT_PCT: Free Throw Percentage %\n",
    "* OREB: Offensive rebound\n",
    "* DREB: Defensive rebound\n",
    "* REB: rebound\n",
    "* AST: assists\n",
    "* STL: Steal\n",
    "* BLK: Block\n",
    "* TO: Turnover\n",
    "* PF: Personal Fouls\n",
    "* PTS: Points\n",
    "* PLUS_MINUS: plus minus"
   ]
  },
  {
   "cell_type": "markdown",
   "metadata": {},
   "source": [
    "I know. These are a lot of information that is shown and it's quite intimdating for a nba sports newbie to understand everything. So I highly recommend those who don't understand these terminologies by checking the wikipedia page: https://en.wikipedia.org/wiki/Rules_of_basketball. Enough said, let's keep navigating through our data."
   ]
  },
  {
   "cell_type": "code",
   "execution_count": null,
   "metadata": {},
   "outputs": [],
   "source": [
    "#print(\"games\")\n",
    "#games.sort_values(by=\"GAME_DATE_EST\")"
   ]
  },
  {
   "cell_type": "code",
   "execution_count": null,
   "metadata": {},
   "outputs": [],
   "source": [
    "#print(\"players\")\n",
    "#players.sample(5)"
   ]
  },
  {
   "cell_type": "code",
   "execution_count": null,
   "metadata": {},
   "outputs": [],
   "source": [
    "#print(\"rankings\")\n",
    "#df"
   ]
  }
 ],
 "metadata": {
  "kernelspec": {
   "display_name": "Python 3",
   "language": "python",
   "name": "python3"
  },
  "language_info": {
   "codemirror_mode": {
    "name": "ipython",
    "version": 3
   },
   "file_extension": ".py",
   "mimetype": "text/x-python",
   "name": "python",
   "nbconvert_exporter": "python",
   "pygments_lexer": "ipython3",
   "version": "3.8.3"
  }
 },
 "nbformat": 4,
 "nbformat_minor": 4
}
